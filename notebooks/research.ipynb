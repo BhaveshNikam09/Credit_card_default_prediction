{
 "cells": [
  {
   "cell_type": "code",
   "execution_count": 33,
   "metadata": {},
   "outputs": [],
   "source": [
    "import pandas as pd"
   ]
  },
  {
   "cell_type": "code",
   "execution_count": 34,
   "metadata": {},
   "outputs": [],
   "source": [
    "data=pd.read_csv('data/Credit_Card_new.csv')    "
   ]
  },
  {
   "cell_type": "code",
   "execution_count": 35,
   "metadata": {},
   "outputs": [
    {
     "data": {
      "text/html": [
       "<div>\n",
       "<style scoped>\n",
       "    .dataframe tbody tr th:only-of-type {\n",
       "        vertical-align: middle;\n",
       "    }\n",
       "\n",
       "    .dataframe tbody tr th {\n",
       "        vertical-align: top;\n",
       "    }\n",
       "\n",
       "    .dataframe thead th {\n",
       "        text-align: right;\n",
       "    }\n",
       "</style>\n",
       "<table border=\"1\" class=\"dataframe\">\n",
       "  <thead>\n",
       "    <tr style=\"text-align: right;\">\n",
       "      <th></th>\n",
       "      <th>LIMIT_BAL</th>\n",
       "      <th>AGE</th>\n",
       "      <th>PAY_1</th>\n",
       "      <th>PAY_2</th>\n",
       "      <th>PAY_3</th>\n",
       "      <th>PAY_4</th>\n",
       "      <th>PAY_5</th>\n",
       "      <th>PAY_6</th>\n",
       "      <th>default.payment.next.month</th>\n",
       "    </tr>\n",
       "  </thead>\n",
       "  <tbody>\n",
       "    <tr>\n",
       "      <th>0</th>\n",
       "      <td>20000.0</td>\n",
       "      <td>24</td>\n",
       "      <td>payment delay for two months</td>\n",
       "      <td>payment delay for two months</td>\n",
       "      <td>pay duly</td>\n",
       "      <td>pay duly</td>\n",
       "      <td>no consumption</td>\n",
       "      <td>no consumption</td>\n",
       "      <td>1</td>\n",
       "    </tr>\n",
       "    <tr>\n",
       "      <th>1</th>\n",
       "      <td>120000.0</td>\n",
       "      <td>26</td>\n",
       "      <td>pay duly</td>\n",
       "      <td>payment delay for two months</td>\n",
       "      <td>payment on time</td>\n",
       "      <td>payment on time</td>\n",
       "      <td>payment on time</td>\n",
       "      <td>payment delay for two months</td>\n",
       "      <td>1</td>\n",
       "    </tr>\n",
       "    <tr>\n",
       "      <th>2</th>\n",
       "      <td>90000.0</td>\n",
       "      <td>34</td>\n",
       "      <td>payment on time</td>\n",
       "      <td>payment on time</td>\n",
       "      <td>payment on time</td>\n",
       "      <td>payment on time</td>\n",
       "      <td>payment on time</td>\n",
       "      <td>payment on time</td>\n",
       "      <td>0</td>\n",
       "    </tr>\n",
       "    <tr>\n",
       "      <th>3</th>\n",
       "      <td>50000.0</td>\n",
       "      <td>37</td>\n",
       "      <td>payment on time</td>\n",
       "      <td>payment on time</td>\n",
       "      <td>payment on time</td>\n",
       "      <td>payment on time</td>\n",
       "      <td>payment on time</td>\n",
       "      <td>payment on time</td>\n",
       "      <td>0</td>\n",
       "    </tr>\n",
       "    <tr>\n",
       "      <th>4</th>\n",
       "      <td>50000.0</td>\n",
       "      <td>57</td>\n",
       "      <td>pay duly</td>\n",
       "      <td>payment on time</td>\n",
       "      <td>pay duly</td>\n",
       "      <td>payment on time</td>\n",
       "      <td>payment on time</td>\n",
       "      <td>payment on time</td>\n",
       "      <td>0</td>\n",
       "    </tr>\n",
       "  </tbody>\n",
       "</table>\n",
       "</div>"
      ],
      "text/plain": [
       "   LIMIT_BAL  AGE                         PAY_1                         PAY_2  \\\n",
       "0    20000.0   24  payment delay for two months  payment delay for two months   \n",
       "1   120000.0   26                      pay duly  payment delay for two months   \n",
       "2    90000.0   34               payment on time               payment on time   \n",
       "3    50000.0   37               payment on time               payment on time   \n",
       "4    50000.0   57                      pay duly               payment on time   \n",
       "\n",
       "             PAY_3            PAY_4            PAY_5  \\\n",
       "0         pay duly         pay duly   no consumption   \n",
       "1  payment on time  payment on time  payment on time   \n",
       "2  payment on time  payment on time  payment on time   \n",
       "3  payment on time  payment on time  payment on time   \n",
       "4         pay duly  payment on time  payment on time   \n",
       "\n",
       "                          PAY_6  default.payment.next.month  \n",
       "0                no consumption                           1  \n",
       "1  payment delay for two months                           1  \n",
       "2               payment on time                           0  \n",
       "3               payment on time                           0  \n",
       "4               payment on time                           0  "
      ]
     },
     "execution_count": 35,
     "metadata": {},
     "output_type": "execute_result"
    }
   ],
   "source": [
    "data.head()"
   ]
  },
  {
   "cell_type": "code",
   "execution_count": 36,
   "metadata": {},
   "outputs": [],
   "source": [
    "data=data.drop(['AGE'],axis=1)"
   ]
  },
  {
   "cell_type": "code",
   "execution_count": 37,
   "metadata": {},
   "outputs": [],
   "source": [
    "from sklearn.preprocessing import StandardScaler\n",
    "from sklearn.preprocessing import LabelEncoder\n",
    "from sklearn.pipeline import Pipeline\n",
    "from sklearn.compose import ColumnTransformer\n",
    "from sklearn.impute import SimpleImputer\n",
    "from sklearn.preprocessing import OrdinalEncoder"
   ]
  },
  {
   "cell_type": "code",
   "execution_count": 38,
   "metadata": {},
   "outputs": [],
   "source": [
    "X=data.drop(['default.payment.next.month'],axis=1)"
   ]
  },
  {
   "cell_type": "code",
   "execution_count": 39,
   "metadata": {},
   "outputs": [],
   "source": [
    "num_features=X.columns[X.dtypes!='O']"
   ]
  },
  {
   "cell_type": "code",
   "execution_count": 40,
   "metadata": {},
   "outputs": [],
   "source": [
    "categorical_column=X.columns[X.dtypes=='O']"
   ]
  },
  {
   "cell_type": "code",
   "execution_count": 41,
   "metadata": {},
   "outputs": [
    {
     "data": {
      "text/plain": [
       "Index(['PAY_1', 'PAY_2', 'PAY_3', 'PAY_4', 'PAY_5', 'PAY_6'], dtype='object')"
      ]
     },
     "execution_count": 41,
     "metadata": {},
     "output_type": "execute_result"
    }
   ],
   "source": [
    "categorical_column"
   ]
  },
  {
   "cell_type": "code",
   "execution_count": 42,
   "metadata": {},
   "outputs": [
    {
     "data": {
      "text/plain": [
       "PAY_3\n",
       "payment on time                   15764\n",
       "pay duly                           5938\n",
       "no consumption                     4085\n",
       "payment delay for two months       3819\n",
       "payment delay for three months      240\n",
       "payment delay for four months        76\n",
       "payment delay for seven months       27\n",
       "payment delay for six months         23\n",
       "payment delay for five months        21\n",
       "payment delay for one month           4\n",
       "payment delay for eight months        3\n",
       "Name: count, dtype: int64"
      ]
     },
     "execution_count": 42,
     "metadata": {},
     "output_type": "execute_result"
    }
   ],
   "source": [
    "data['PAY_3'].value_counts()"
   ]
  },
  {
   "cell_type": "code",
   "execution_count": 43,
   "metadata": {},
   "outputs": [],
   "source": [
    "PAY_1 = [\"no consumption\", \"pay duly\", \"payment on time\", \"payment delay for one month\", \"payment delay for two months\",\"payment delay for three months\",\"payment delay for four months\",\"payment delay for five months\",\"payment delay for six months\",\"payment delay for seven months\", \"payment delay for eight months\"]\n",
    "PAY_2 = [\"no consumption\", \"pay duly\", \"payment on time\", \"payment delay for one month\", \"payment delay for two months\",\"payment delay for three months\",\"payment delay for four months\",\"payment delay for five months\",\"payment delay for six months\",\"payment delay for seven months\", \"payment delay for eight months\"]\n",
    "PAY_3 = [\"no consumption\", \"pay duly\", \"payment on time\", \"payment delay for one month\", \"payment delay for two months\",\"payment delay for three months\",\"payment delay for four months\",\"payment delay for five months\",\"payment delay for six months\",\"payment delay for seven months\", \"payment delay for eight months\"]\n",
    "PAY_4 = [\"no consumption\", \"pay duly\", \"payment on time\", \"payment delay for one month\", \"payment delay for two months\",\"payment delay for three months\",\"payment delay for four months\",\"payment delay for five months\",\"payment delay for six months\",\"payment delay for seven months\", \"payment delay for eight months\"]\n",
    "PAY_5 = [\"no consumption\", \"pay duly\", \"payment on time\", \"payment delay for one month\", \"payment delay for two months\",\"payment delay for three months\",\"payment delay for four months\",\"payment delay for five months\",\"payment delay for six months\",\"payment delay for seven months\", \"payment delay for eight months\"]\n",
    "PAY_6 = [\"no consumption\", \"pay duly\", \"payment on time\", \"payment delay for one month\", \"payment delay for two months\",\"payment delay for three months\",\"payment delay for four months\",\"payment delay for five months\",\"payment delay for six months\",\"payment delay for seven months\", \"payment delay for eight months\"]"
   ]
  },
  {
   "cell_type": "code",
   "execution_count": 44,
   "metadata": {},
   "outputs": [],
   "source": [
    "num_pipeline=Pipeline(\n",
    "    \n",
    "   steps= [\n",
    "        ('std_scaler',StandardScaler()),\n",
    "        ('imputer',SimpleImputer(strategy='median'))\n",
    "        ]\n",
    ")"
   ]
  },
  {
   "cell_type": "code",
   "execution_count": 45,
   "metadata": {},
   "outputs": [],
   "source": [
    "cat_pipeline=Pipeline(\n",
    "    steps=[\n",
    "        ('Encoder',OrdinalEncoder(categories=[PAY_1,PAY_2,PAY_3,PAY_4,PAY_5,PAY_6])),\n",
    "        ('imputer',SimpleImputer(strategy='most_frequent'))\n",
    "    ]\n",
    ")"
   ]
  },
  {
   "cell_type": "code",
   "execution_count": 46,
   "metadata": {},
   "outputs": [],
   "source": [
    "processor=ColumnTransformer(\n",
    "    [\n",
    "    ('num',num_pipeline,num_features),\n",
    "    ('cat',cat_pipeline,categorical_column)\n",
    "    ]\n",
    ")\n"
   ]
  },
  {
   "cell_type": "code",
   "execution_count": 47,
   "metadata": {},
   "outputs": [],
   "source": [
    "from sklearn.model_selection import train_test_split"
   ]
  },
  {
   "cell_type": "code",
   "execution_count": 48,
   "metadata": {},
   "outputs": [],
   "source": [
    "y=data['default.payment.next.month']"
   ]
  },
  {
   "cell_type": "code",
   "execution_count": 49,
   "metadata": {},
   "outputs": [],
   "source": [
    "X_train,X_test,y_train,y_test=train_test_split(X,y,test_size=0.2,random_state=42)"
   ]
  },
  {
   "cell_type": "code",
   "execution_count": 50,
   "metadata": {},
   "outputs": [
    {
     "data": {
      "text/html": [
       "<div>\n",
       "<style scoped>\n",
       "    .dataframe tbody tr th:only-of-type {\n",
       "        vertical-align: middle;\n",
       "    }\n",
       "\n",
       "    .dataframe tbody tr th {\n",
       "        vertical-align: top;\n",
       "    }\n",
       "\n",
       "    .dataframe thead th {\n",
       "        text-align: right;\n",
       "    }\n",
       "</style>\n",
       "<table border=\"1\" class=\"dataframe\">\n",
       "  <thead>\n",
       "    <tr style=\"text-align: right;\">\n",
       "      <th></th>\n",
       "      <th>LIMIT_BAL</th>\n",
       "      <th>PAY_1</th>\n",
       "      <th>PAY_2</th>\n",
       "      <th>PAY_3</th>\n",
       "      <th>PAY_4</th>\n",
       "      <th>PAY_5</th>\n",
       "      <th>PAY_6</th>\n",
       "    </tr>\n",
       "  </thead>\n",
       "  <tbody>\n",
       "    <tr>\n",
       "      <th>21753</th>\n",
       "      <td>80000.0</td>\n",
       "      <td>payment on time</td>\n",
       "      <td>payment on time</td>\n",
       "      <td>payment on time</td>\n",
       "      <td>payment on time</td>\n",
       "      <td>payment on time</td>\n",
       "      <td>payment on time</td>\n",
       "    </tr>\n",
       "    <tr>\n",
       "      <th>251</th>\n",
       "      <td>30000.0</td>\n",
       "      <td>payment on time</td>\n",
       "      <td>payment on time</td>\n",
       "      <td>payment on time</td>\n",
       "      <td>payment on time</td>\n",
       "      <td>payment on time</td>\n",
       "      <td>payment on time</td>\n",
       "    </tr>\n",
       "    <tr>\n",
       "      <th>22941</th>\n",
       "      <td>180000.0</td>\n",
       "      <td>payment on time</td>\n",
       "      <td>payment on time</td>\n",
       "      <td>pay duly</td>\n",
       "      <td>pay duly</td>\n",
       "      <td>pay duly</td>\n",
       "      <td>pay duly</td>\n",
       "    </tr>\n",
       "    <tr>\n",
       "      <th>618</th>\n",
       "      <td>60000.0</td>\n",
       "      <td>payment on time</td>\n",
       "      <td>payment on time</td>\n",
       "      <td>payment on time</td>\n",
       "      <td>payment on time</td>\n",
       "      <td>payment on time</td>\n",
       "      <td>payment on time</td>\n",
       "    </tr>\n",
       "    <tr>\n",
       "      <th>17090</th>\n",
       "      <td>130000.0</td>\n",
       "      <td>payment on time</td>\n",
       "      <td>payment on time</td>\n",
       "      <td>payment on time</td>\n",
       "      <td>payment on time</td>\n",
       "      <td>payment on time</td>\n",
       "      <td>payment on time</td>\n",
       "    </tr>\n",
       "  </tbody>\n",
       "</table>\n",
       "</div>"
      ],
      "text/plain": [
       "       LIMIT_BAL            PAY_1            PAY_2            PAY_3  \\\n",
       "21753    80000.0  payment on time  payment on time  payment on time   \n",
       "251      30000.0  payment on time  payment on time  payment on time   \n",
       "22941   180000.0  payment on time  payment on time         pay duly   \n",
       "618      60000.0  payment on time  payment on time  payment on time   \n",
       "17090   130000.0  payment on time  payment on time  payment on time   \n",
       "\n",
       "                 PAY_4            PAY_5            PAY_6  \n",
       "21753  payment on time  payment on time  payment on time  \n",
       "251    payment on time  payment on time  payment on time  \n",
       "22941         pay duly         pay duly         pay duly  \n",
       "618    payment on time  payment on time  payment on time  \n",
       "17090  payment on time  payment on time  payment on time  "
      ]
     },
     "execution_count": 50,
     "metadata": {},
     "output_type": "execute_result"
    }
   ],
   "source": [
    "X_train.head()"
   ]
  },
  {
   "cell_type": "code",
   "execution_count": 51,
   "metadata": {},
   "outputs": [],
   "source": [
    "X_train_sc=processor.fit_transform(X_train)"
   ]
  },
  {
   "cell_type": "code",
   "execution_count": 52,
   "metadata": {},
   "outputs": [
    {
     "data": {
      "text/plain": [
       "array([[-0.67235902,  2.        ,  2.        , ...,  2.        ,\n",
       "         2.        ,  2.        ],\n",
       "       [-1.05776818,  2.        ,  2.        , ...,  2.        ,\n",
       "         2.        ,  2.        ],\n",
       "       [ 0.0984593 ,  2.        ,  2.        , ...,  1.        ,\n",
       "         1.        ,  1.        ],\n",
       "       ...,\n",
       "       [-0.90360452,  0.        ,  0.        , ...,  0.        ,\n",
       "         0.        ,  0.        ],\n",
       "       [-0.74944086,  2.        ,  2.        , ...,  2.        ,\n",
       "         4.        ,  4.        ],\n",
       "       [-0.05570437,  0.        ,  0.        , ...,  0.        ,\n",
       "         0.        ,  0.        ]])"
      ]
     },
     "execution_count": 52,
     "metadata": {},
     "output_type": "execute_result"
    }
   ],
   "source": [
    "X_train_sc"
   ]
  },
  {
   "cell_type": "code",
   "execution_count": 53,
   "metadata": {},
   "outputs": [],
   "source": [
    "x_test_sc = processor.transform(X_test)"
   ]
  },
  {
   "cell_type": "code",
   "execution_count": 54,
   "metadata": {},
   "outputs": [],
   "source": [
    "from sklearn.ensemble import RandomForestClassifier"
   ]
  },
  {
   "cell_type": "code",
   "execution_count": 55,
   "metadata": {},
   "outputs": [],
   "source": [
    "params={'n_estimators': 300,\n",
    " 'max_depth': 7,\n",
    " 'min_samples_split': 8,\n",
    " 'min_samples_leaf': 9,\n",
    " 'max_features': 'sqrt'}"
   ]
  },
  {
   "cell_type": "code",
   "execution_count": 56,
   "metadata": {},
   "outputs": [],
   "source": [
    "rfc = RandomForestClassifier(**params,random_state=42)"
   ]
  },
  {
   "cell_type": "code",
   "execution_count": 57,
   "metadata": {},
   "outputs": [
    {
     "data": {
      "text/html": [
       "<style>#sk-container-id-2 {color: black;}#sk-container-id-2 pre{padding: 0;}#sk-container-id-2 div.sk-toggleable {background-color: white;}#sk-container-id-2 label.sk-toggleable__label {cursor: pointer;display: block;width: 100%;margin-bottom: 0;padding: 0.3em;box-sizing: border-box;text-align: center;}#sk-container-id-2 label.sk-toggleable__label-arrow:before {content: \"▸\";float: left;margin-right: 0.25em;color: #696969;}#sk-container-id-2 label.sk-toggleable__label-arrow:hover:before {color: black;}#sk-container-id-2 div.sk-estimator:hover label.sk-toggleable__label-arrow:before {color: black;}#sk-container-id-2 div.sk-toggleable__content {max-height: 0;max-width: 0;overflow: hidden;text-align: left;background-color: #f0f8ff;}#sk-container-id-2 div.sk-toggleable__content pre {margin: 0.2em;color: black;border-radius: 0.25em;background-color: #f0f8ff;}#sk-container-id-2 input.sk-toggleable__control:checked~div.sk-toggleable__content {max-height: 200px;max-width: 100%;overflow: auto;}#sk-container-id-2 input.sk-toggleable__control:checked~label.sk-toggleable__label-arrow:before {content: \"▾\";}#sk-container-id-2 div.sk-estimator input.sk-toggleable__control:checked~label.sk-toggleable__label {background-color: #d4ebff;}#sk-container-id-2 div.sk-label input.sk-toggleable__control:checked~label.sk-toggleable__label {background-color: #d4ebff;}#sk-container-id-2 input.sk-hidden--visually {border: 0;clip: rect(1px 1px 1px 1px);clip: rect(1px, 1px, 1px, 1px);height: 1px;margin: -1px;overflow: hidden;padding: 0;position: absolute;width: 1px;}#sk-container-id-2 div.sk-estimator {font-family: monospace;background-color: #f0f8ff;border: 1px dotted black;border-radius: 0.25em;box-sizing: border-box;margin-bottom: 0.5em;}#sk-container-id-2 div.sk-estimator:hover {background-color: #d4ebff;}#sk-container-id-2 div.sk-parallel-item::after {content: \"\";width: 100%;border-bottom: 1px solid gray;flex-grow: 1;}#sk-container-id-2 div.sk-label:hover label.sk-toggleable__label {background-color: #d4ebff;}#sk-container-id-2 div.sk-serial::before {content: \"\";position: absolute;border-left: 1px solid gray;box-sizing: border-box;top: 0;bottom: 0;left: 50%;z-index: 0;}#sk-container-id-2 div.sk-serial {display: flex;flex-direction: column;align-items: center;background-color: white;padding-right: 0.2em;padding-left: 0.2em;position: relative;}#sk-container-id-2 div.sk-item {position: relative;z-index: 1;}#sk-container-id-2 div.sk-parallel {display: flex;align-items: stretch;justify-content: center;background-color: white;position: relative;}#sk-container-id-2 div.sk-item::before, #sk-container-id-2 div.sk-parallel-item::before {content: \"\";position: absolute;border-left: 1px solid gray;box-sizing: border-box;top: 0;bottom: 0;left: 50%;z-index: -1;}#sk-container-id-2 div.sk-parallel-item {display: flex;flex-direction: column;z-index: 1;position: relative;background-color: white;}#sk-container-id-2 div.sk-parallel-item:first-child::after {align-self: flex-end;width: 50%;}#sk-container-id-2 div.sk-parallel-item:last-child::after {align-self: flex-start;width: 50%;}#sk-container-id-2 div.sk-parallel-item:only-child::after {width: 0;}#sk-container-id-2 div.sk-dashed-wrapped {border: 1px dashed gray;margin: 0 0.4em 0.5em 0.4em;box-sizing: border-box;padding-bottom: 0.4em;background-color: white;}#sk-container-id-2 div.sk-label label {font-family: monospace;font-weight: bold;display: inline-block;line-height: 1.2em;}#sk-container-id-2 div.sk-label-container {text-align: center;}#sk-container-id-2 div.sk-container {/* jupyter's `normalize.less` sets `[hidden] { display: none; }` but bootstrap.min.css set `[hidden] { display: none !important; }` so we also need the `!important` here to be able to override the default hidden behavior on the sphinx rendered scikit-learn.org. See: https://github.com/scikit-learn/scikit-learn/issues/21755 */display: inline-block !important;position: relative;}#sk-container-id-2 div.sk-text-repr-fallback {display: none;}</style><div id=\"sk-container-id-2\" class=\"sk-top-container\"><div class=\"sk-text-repr-fallback\"><pre>RandomForestClassifier(max_depth=7, min_samples_leaf=9, min_samples_split=8,\n",
       "                       n_estimators=300, random_state=42)</pre><b>In a Jupyter environment, please rerun this cell to show the HTML representation or trust the notebook. <br />On GitHub, the HTML representation is unable to render, please try loading this page with nbviewer.org.</b></div><div class=\"sk-container\" hidden><div class=\"sk-item\"><div class=\"sk-estimator sk-toggleable\"><input class=\"sk-toggleable__control sk-hidden--visually\" id=\"sk-estimator-id-2\" type=\"checkbox\" checked><label for=\"sk-estimator-id-2\" class=\"sk-toggleable__label sk-toggleable__label-arrow\">RandomForestClassifier</label><div class=\"sk-toggleable__content\"><pre>RandomForestClassifier(max_depth=7, min_samples_leaf=9, min_samples_split=8,\n",
       "                       n_estimators=300, random_state=42)</pre></div></div></div></div></div>"
      ],
      "text/plain": [
       "RandomForestClassifier(max_depth=7, min_samples_leaf=9, min_samples_split=8,\n",
       "                       n_estimators=300, random_state=42)"
      ]
     },
     "execution_count": 57,
     "metadata": {},
     "output_type": "execute_result"
    }
   ],
   "source": [
    "rfc.fit(X_train_sc,y_train)"
   ]
  },
  {
   "cell_type": "code",
   "execution_count": 58,
   "metadata": {},
   "outputs": [],
   "source": [
    "pred = rfc.predict(x_test_sc)"
   ]
  },
  {
   "cell_type": "code",
   "execution_count": 59,
   "metadata": {},
   "outputs": [],
   "source": [
    "from sklearn.metrics import accuracy_score"
   ]
  },
  {
   "cell_type": "code",
   "execution_count": 60,
   "metadata": {},
   "outputs": [
    {
     "data": {
      "text/plain": [
       "0.8206666666666667"
      ]
     },
     "execution_count": 60,
     "metadata": {},
     "output_type": "execute_result"
    }
   ],
   "source": [
    "accuracy_score(y_test,pred)"
   ]
  },
  {
   "cell_type": "code",
   "execution_count": 61,
   "metadata": {},
   "outputs": [
    {
     "data": {
      "text/plain": [
       "0.8245416666666666"
      ]
     },
     "execution_count": 61,
     "metadata": {},
     "output_type": "execute_result"
    }
   ],
   "source": [
    "rfc.score(X_train_sc,y_train)"
   ]
  },
  {
   "cell_type": "code",
   "execution_count": 62,
   "metadata": {},
   "outputs": [
    {
     "data": {
      "text/html": [
       "<div>\n",
       "<style scoped>\n",
       "    .dataframe tbody tr th:only-of-type {\n",
       "        vertical-align: middle;\n",
       "    }\n",
       "\n",
       "    .dataframe tbody tr th {\n",
       "        vertical-align: top;\n",
       "    }\n",
       "\n",
       "    .dataframe thead th {\n",
       "        text-align: right;\n",
       "    }\n",
       "</style>\n",
       "<table border=\"1\" class=\"dataframe\">\n",
       "  <thead>\n",
       "    <tr style=\"text-align: right;\">\n",
       "      <th></th>\n",
       "      <th>LIMIT_BAL</th>\n",
       "      <th>PAY_1</th>\n",
       "      <th>PAY_2</th>\n",
       "      <th>PAY_3</th>\n",
       "      <th>PAY_4</th>\n",
       "      <th>PAY_5</th>\n",
       "      <th>PAY_6</th>\n",
       "      <th>default.payment.next.month</th>\n",
       "    </tr>\n",
       "  </thead>\n",
       "  <tbody>\n",
       "    <tr>\n",
       "      <th>0</th>\n",
       "      <td>20000.0</td>\n",
       "      <td>payment delay for two months</td>\n",
       "      <td>payment delay for two months</td>\n",
       "      <td>pay duly</td>\n",
       "      <td>pay duly</td>\n",
       "      <td>no consumption</td>\n",
       "      <td>no consumption</td>\n",
       "      <td>1</td>\n",
       "    </tr>\n",
       "    <tr>\n",
       "      <th>1</th>\n",
       "      <td>120000.0</td>\n",
       "      <td>pay duly</td>\n",
       "      <td>payment delay for two months</td>\n",
       "      <td>payment on time</td>\n",
       "      <td>payment on time</td>\n",
       "      <td>payment on time</td>\n",
       "      <td>payment delay for two months</td>\n",
       "      <td>1</td>\n",
       "    </tr>\n",
       "    <tr>\n",
       "      <th>2</th>\n",
       "      <td>90000.0</td>\n",
       "      <td>payment on time</td>\n",
       "      <td>payment on time</td>\n",
       "      <td>payment on time</td>\n",
       "      <td>payment on time</td>\n",
       "      <td>payment on time</td>\n",
       "      <td>payment on time</td>\n",
       "      <td>0</td>\n",
       "    </tr>\n",
       "    <tr>\n",
       "      <th>3</th>\n",
       "      <td>50000.0</td>\n",
       "      <td>payment on time</td>\n",
       "      <td>payment on time</td>\n",
       "      <td>payment on time</td>\n",
       "      <td>payment on time</td>\n",
       "      <td>payment on time</td>\n",
       "      <td>payment on time</td>\n",
       "      <td>0</td>\n",
       "    </tr>\n",
       "    <tr>\n",
       "      <th>4</th>\n",
       "      <td>50000.0</td>\n",
       "      <td>pay duly</td>\n",
       "      <td>payment on time</td>\n",
       "      <td>pay duly</td>\n",
       "      <td>payment on time</td>\n",
       "      <td>payment on time</td>\n",
       "      <td>payment on time</td>\n",
       "      <td>0</td>\n",
       "    </tr>\n",
       "  </tbody>\n",
       "</table>\n",
       "</div>"
      ],
      "text/plain": [
       "   LIMIT_BAL                         PAY_1                         PAY_2  \\\n",
       "0    20000.0  payment delay for two months  payment delay for two months   \n",
       "1   120000.0                      pay duly  payment delay for two months   \n",
       "2    90000.0               payment on time               payment on time   \n",
       "3    50000.0               payment on time               payment on time   \n",
       "4    50000.0                      pay duly               payment on time   \n",
       "\n",
       "             PAY_3            PAY_4            PAY_5  \\\n",
       "0         pay duly         pay duly   no consumption   \n",
       "1  payment on time  payment on time  payment on time   \n",
       "2  payment on time  payment on time  payment on time   \n",
       "3  payment on time  payment on time  payment on time   \n",
       "4         pay duly  payment on time  payment on time   \n",
       "\n",
       "                          PAY_6  default.payment.next.month  \n",
       "0                no consumption                           1  \n",
       "1  payment delay for two months                           1  \n",
       "2               payment on time                           0  \n",
       "3               payment on time                           0  \n",
       "4               payment on time                           0  "
      ]
     },
     "execution_count": 62,
     "metadata": {},
     "output_type": "execute_result"
    }
   ],
   "source": [
    "data.head()"
   ]
  },
  {
   "cell_type": "code",
   "execution_count": 72,
   "metadata": {},
   "outputs": [
    {
     "name": "stdout",
     "output_type": "stream",
     "text": [
      "   LIMIT_BAL                         PAY_1           PAY_2     PAY_3  \\\n",
      "0      20000  payment delay for two months  no consumption  pay duly   \n",
      "\n",
      "             PAY_4                           PAY_5     PAY_6  \n",
      "0  payment on time  payment delay for three months  pay duly  \n"
     ]
    }
   ],
   "source": [
    "import pandas as pd\n",
    "\n",
    "# Define the data\n",
    "data_1 = [[20000, 'payment delay for two months', 'no consumption', 'pay duly', \n",
    "           'payment on time', 'payment delay for three months', 'pay duly']]\n",
    "\n",
    "# Define column names\n",
    "columns = [\"LIMIT_BAL\", \"PAY_1\", \"PAY_2\", \"PAY_3\", \"PAY_4\", \"PAY_5\", \"PAY_6\"]\n",
    "\n",
    "# Convert to DataFrame\n",
    "df = pd.DataFrame(data_1, columns=columns)\n",
    "\n",
    "# Display the DataFrame\n",
    "print(df)\n"
   ]
  },
  {
   "cell_type": "code",
   "execution_count": 74,
   "metadata": {},
   "outputs": [],
   "source": [
    "data1=processor.transform(df)"
   ]
  },
  {
   "cell_type": "code",
   "execution_count": 75,
   "metadata": {},
   "outputs": [
    {
     "data": {
      "text/plain": [
       "array([1], dtype=int64)"
      ]
     },
     "execution_count": 75,
     "metadata": {},
     "output_type": "execute_result"
    }
   ],
   "source": [
    "rfc.predict(data1)"
   ]
  },
  {
   "cell_type": "code",
   "execution_count": null,
   "metadata": {},
   "outputs": [],
   "source": []
  }
 ],
 "metadata": {
  "kernelspec": {
   "display_name": "env",
   "language": "python",
   "name": "python3"
  },
  "language_info": {
   "codemirror_mode": {
    "name": "ipython",
    "version": 3
   },
   "file_extension": ".py",
   "mimetype": "text/x-python",
   "name": "python",
   "nbconvert_exporter": "python",
   "pygments_lexer": "ipython3",
   "version": "3.8.20"
  }
 },
 "nbformat": 4,
 "nbformat_minor": 2
}
