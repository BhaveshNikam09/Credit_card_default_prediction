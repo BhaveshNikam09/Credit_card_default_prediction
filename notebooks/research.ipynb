{
 "cells": [
  {
   "cell_type": "code",
   "execution_count": 11,
   "metadata": {},
   "outputs": [],
   "source": [
    "from src.Creditcardfaultdetection.logger import logging\n",
    "logging.info('Importing Libraries')\n",
    "import pandas as pd"
   ]
  },
  {
   "cell_type": "code",
   "execution_count": 12,
   "metadata": {},
   "outputs": [],
   "source": [
    "import os"
   ]
  },
  {
   "cell_type": "code",
   "execution_count": 5,
   "metadata": {},
   "outputs": [
    {
     "data": {
      "text/plain": [
       "'d:\\\\ML\\\\Credit card fraud detection\\\\notebooks'"
      ]
     },
     "execution_count": 5,
     "metadata": {},
     "output_type": "execute_result"
    }
   ],
   "source": [
    "os.getcwd()"
   ]
  },
  {
   "cell_type": "code",
   "execution_count": 8,
   "metadata": {},
   "outputs": [],
   "source": [
    "os.makedirs('name', exist_ok=True)"
   ]
  },
  {
   "cell_type": "code",
   "execution_count": 9,
   "metadata": {},
   "outputs": [],
   "source": [
    "class DataIngestionConfig:\n",
    "    # Paths for data storage\n",
    "    raw_data_path: str = os.path.join(\"artifacts\", \"raw.csv\")\n",
    "    train_data_path: str = os.path.join(\"artifacts\", \"train.csv\")\n",
    "    test_data_path: str = os.path.join(\"artifacts\", \"test.csv\")\n"
   ]
  },
  {
   "cell_type": "code",
   "execution_count": 10,
   "metadata": {},
   "outputs": [],
   "source": [
    "class DataIngestion:\n",
    "    def __init__(self):\n",
    "        self.ingestion_config = DataIngestionConfig()\n",
    "    def initiate_data_ingestion(self):\n",
    "        logging.info(\"Data ingestion process started.\")\n",
    "        data_path=os.path.join(\"data\",\"raw.csv\")\n",
    "        data = pd.read_csv(data_path)\n",
    "        logging.info(f\"Dataset loaded successfully with shape: {data.shape}\")\n",
    "\n",
    "            # Creating directory if it does not exist\n",
    "        os.makedirs(os.path.dirname(self.ingestion_config.raw_data_path), exist_ok=True)\n",
    "\n",
    "            # Saving raw data\n",
    "        data.to_csv(self.ingestion_config.raw_data_path, index=False)"
   ]
  },
  {
   "cell_type": "code",
   "execution_count": 24,
   "metadata": {},
   "outputs": [],
   "source": [
    "from pathlib import Path\n",
    "import pandas as pd\n",
    "\n",
    "file_path = Path(\"data\") / \"Credit_Card.csv\"\n",
    "\n",
    "data=pd.read_csv(file_path)\n",
    "os.makedirs(os.path.dirname(\"artifacts/raw.csv\"), exist_ok=True)\n",
    "data.to_csv(\"artifacts/raw.csv\", index=False)"
   ]
  },
  {
   "cell_type": "code",
   "execution_count": 20,
   "metadata": {},
   "outputs": [
    {
     "data": {
      "text/plain": [
       "'d:\\\\ML\\\\Credit card fraud detection\\\\notebooks'"
      ]
     },
     "execution_count": 20,
     "metadata": {},
     "output_type": "execute_result"
    }
   ],
   "source": [
    "os.getcwd()"
   ]
  },
  {
   "cell_type": "code",
   "execution_count": null,
   "metadata": {},
   "outputs": [],
   "source": []
  }
 ],
 "metadata": {
  "kernelspec": {
   "display_name": "env",
   "language": "python",
   "name": "python3"
  },
  "language_info": {
   "codemirror_mode": {
    "name": "ipython",
    "version": 3
   },
   "file_extension": ".py",
   "mimetype": "text/x-python",
   "name": "python",
   "nbconvert_exporter": "python",
   "pygments_lexer": "ipython3",
   "version": "3.8.20"
  }
 },
 "nbformat": 4,
 "nbformat_minor": 2
}
